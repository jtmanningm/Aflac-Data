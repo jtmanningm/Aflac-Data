{
 "cells": [
  {
   "cell_type": "code",
   "execution_count": 1,
   "metadata": {},
   "outputs": [],
   "source": [
    "#importing python libraries \n",
    "import numpy as np\n",
    "import pandas as pd\n",
    "import matplotlib.pyplot as plt\n",
    "import seaborn as sns\n",
    "from scipy import stats\n",
    "from sklearn.linear_model import LinearRegression\n",
    "from sklearn.model_selection import train_test_split, cross_val_score, KFold"
   ]
  },
  {
   "cell_type": "code",
   "execution_count": 2,
   "metadata": {},
   "outputs": [],
   "source": [
    "import requests\n",
    "import pandas as pd\n",
    "\n",
    "#Call FRED API\n",
    "# Define your API key\n",
    "api_key = '2a2e9be69431487407cdf6e64bb58c72'\n",
    "\n",
    "# Define the endpoint and parameters\n",
    "endpoint = 'https://api.stlouisfed.org/fred/series/observations'\n",
    "params = {'series_id': 'CUSR0000SEEB', 'api_key': api_key, 'file_type': 'json', 'observation_start': '2013-01-01'}\n",
    "\n",
    "# Make the request\n",
    "response = requests.get(endpoint, params=params)\n",
    "\n",
    "# Parse the response\n",
    "data = response.json()\n",
    "\n",
    "# Create a pandas DataFrame\n",
    "Fred_CC = pd.DataFrame(data['observations'])\n",
    "\n",
    "# drop the first 2 columns\n",
    "Fred_CC.drop(Fred_CC.columns[:3], axis=1, inplace=True)\n",
    "\n",
    "# Convert the object 'value' to numeric\n",
    "Fred_CC['value'] = pd.to_numeric(Fred_CC['value'])\n"
   ]
  },
  {
   "cell_type": "code",
   "execution_count": 3,
   "metadata": {},
   "outputs": [],
   "source": [
    "# Reshape the data into quarterly columns\n",
    "Fred_CC = pd.DataFrame(Fred_CC.values.reshape(-1,4), columns=['Q1_Wage', 'Q2_CH', 'Q3_CH', 'Q4_CH'])"
   ]
  },
  {
   "cell_type": "code",
   "execution_count": 4,
   "metadata": {},
   "outputs": [
    {
     "data": {
      "text/html": [
       "<div>\n",
       "<style scoped>\n",
       "    .dataframe tbody tr th:only-of-type {\n",
       "        vertical-align: middle;\n",
       "    }\n",
       "\n",
       "    .dataframe tbody tr th {\n",
       "        vertical-align: top;\n",
       "    }\n",
       "\n",
       "    .dataframe thead th {\n",
       "        text-align: right;\n",
       "    }\n",
       "</style>\n",
       "<table border=\"1\" class=\"dataframe\">\n",
       "  <thead>\n",
       "    <tr style=\"text-align: right;\">\n",
       "      <th></th>\n",
       "      <th>Q1_Wage</th>\n",
       "      <th>Q2_CH</th>\n",
       "      <th>Q3_CH</th>\n",
       "      <th>Q4_CH</th>\n",
       "    </tr>\n",
       "  </thead>\n",
       "  <tbody>\n",
       "    <tr>\n",
       "      <th>0</th>\n",
       "      <td>634.935</td>\n",
       "      <td>636.563</td>\n",
       "      <td>638.068</td>\n",
       "      <td>639.683</td>\n",
       "    </tr>\n",
       "    <tr>\n",
       "      <th>1</th>\n",
       "      <td>641.058</td>\n",
       "      <td>642.074</td>\n",
       "      <td>644.160</td>\n",
       "      <td>646.535</td>\n",
       "    </tr>\n",
       "    <tr>\n",
       "      <th>2</th>\n",
       "      <td>647.333</td>\n",
       "      <td>649.092</td>\n",
       "      <td>651.362</td>\n",
       "      <td>653.524</td>\n",
       "    </tr>\n",
       "    <tr>\n",
       "      <th>3</th>\n",
       "      <td>654.259</td>\n",
       "      <td>656.944</td>\n",
       "      <td>658.904</td>\n",
       "      <td>660.584</td>\n",
       "    </tr>\n",
       "    <tr>\n",
       "      <th>4</th>\n",
       "      <td>662.441</td>\n",
       "      <td>664.260</td>\n",
       "      <td>665.773</td>\n",
       "      <td>667.762</td>\n",
       "    </tr>\n",
       "  </tbody>\n",
       "</table>\n",
       "</div>"
      ],
      "text/plain": [
       "   Q1_Wage    Q2_CH    Q3_CH    Q4_CH\n",
       "0  634.935  636.563  638.068  639.683\n",
       "1  641.058  642.074  644.160  646.535\n",
       "2  647.333  649.092  651.362  653.524\n",
       "3  654.259  656.944  658.904  660.584\n",
       "4  662.441  664.260  665.773  667.762"
      ]
     },
     "execution_count": 4,
     "metadata": {},
     "output_type": "execute_result"
    }
   ],
   "source": [
    "Fred_CC.head()"
   ]
  },
  {
   "cell_type": "code",
   "execution_count": 5,
   "metadata": {},
   "outputs": [
    {
     "data": {
      "text/plain": [
       "(30, 4)"
      ]
     },
     "execution_count": 5,
     "metadata": {},
     "output_type": "execute_result"
    }
   ],
   "source": [
    "Fred_CC.shape"
   ]
  },
  {
   "cell_type": "code",
   "execution_count": 6,
   "metadata": {},
   "outputs": [],
   "source": [
    "# Import bls library and connect to datasource, return as pd dataframe\n",
    "import bls\n",
    "df = bls.get_series('LEU0252881500', 2013, 2022)\n",
    "df = pd.DataFrame({'date':df.index, 'value':df.values})"
   ]
  },
  {
   "cell_type": "code",
   "execution_count": 8,
   "metadata": {},
   "outputs": [],
   "source": [
    "# Set date col as index and check info \n",
    "df.set_index('date', inplace = True)\n",
    "\n",
    "df.info()"
   ]
  },
  {
   "cell_type": "code",
   "execution_count": 11,
   "metadata": {},
   "outputs": [],
   "source": [
    "# Add new row to reshape in preperation for concat with FRED data\n",
    "new_row = {'value': 0}\n",
    "df = df.append(new_row, ignore_index=True)\n",
    "df = pd.DataFrame(df.values.reshape(-1, 4),columns=['Q1_Wage','Q2_Wage','Q3_Wage','Q4_Wage'])"
   ]
  },
  {
   "cell_type": "code",
   "execution_count": 12,
   "metadata": {},
   "outputs": [
    {
     "name": "stdout",
     "output_type": "stream",
     "text": [
      "<class 'pandas.core.frame.DataFrame'>\n",
      "RangeIndex: 10 entries, 0 to 9\n",
      "Data columns (total 8 columns):\n",
      " #   Column   Non-Null Count  Dtype  \n",
      "---  ------   --------------  -----  \n",
      " 0   Q1_Wage  10 non-null     float64\n",
      " 1   Q2_CH    10 non-null     float64\n",
      " 2   Q3_CH    10 non-null     float64\n",
      " 3   Q4_CH    10 non-null     float64\n",
      " 4   Q1_Wage  10 non-null     float64\n",
      " 5   Q2_Wage  10 non-null     float64\n",
      " 6   Q3_Wage  10 non-null     float64\n",
      " 7   Q4_Wage  10 non-null     float64\n",
      "dtypes: float64(8)\n",
      "memory usage: 768.0 bytes\n"
     ]
    }
   ],
   "source": [
    "#Concatenate previous dataframes\n",
    "df1 = pd.concat([Fred_CC, df], axis=1, join='inner')\n",
    "\n",
    "#Ensure dataframe created successfully, check lenth, datatypes, and nulls in the data\n",
    "df1.info()"
   ]
  },
  {
   "cell_type": "code",
   "execution_count": 13,
   "metadata": {},
   "outputs": [
    {
     "data": {
      "text/html": [
       "<div>\n",
       "<style scoped>\n",
       "    .dataframe tbody tr th:only-of-type {\n",
       "        vertical-align: middle;\n",
       "    }\n",
       "\n",
       "    .dataframe tbody tr th {\n",
       "        vertical-align: top;\n",
       "    }\n",
       "\n",
       "    .dataframe thead th {\n",
       "        text-align: right;\n",
       "    }\n",
       "</style>\n",
       "<table border=\"1\" class=\"dataframe\">\n",
       "  <thead>\n",
       "    <tr style=\"text-align: right;\">\n",
       "      <th></th>\n",
       "      <th>Q1_Wage</th>\n",
       "      <th>Q2_CH</th>\n",
       "      <th>Q3_CH</th>\n",
       "      <th>Q4_CH</th>\n",
       "      <th>Q1_Wage</th>\n",
       "      <th>Q2_Wage</th>\n",
       "      <th>Q3_Wage</th>\n",
       "      <th>Q4_Wage</th>\n",
       "    </tr>\n",
       "  </thead>\n",
       "  <tbody>\n",
       "    <tr>\n",
       "      <th>5</th>\n",
       "      <td>668.789</td>\n",
       "      <td>670.744</td>\n",
       "      <td>672.722</td>\n",
       "      <td>674.253</td>\n",
       "      <td>881.0</td>\n",
       "      <td>876.0</td>\n",
       "      <td>887.0</td>\n",
       "      <td>900.0</td>\n",
       "    </tr>\n",
       "    <tr>\n",
       "      <th>6</th>\n",
       "      <td>677.508</td>\n",
       "      <td>678.628</td>\n",
       "      <td>681.693</td>\n",
       "      <td>684.516</td>\n",
       "      <td>905.0</td>\n",
       "      <td>908.0</td>\n",
       "      <td>919.0</td>\n",
       "      <td>936.0</td>\n",
       "    </tr>\n",
       "    <tr>\n",
       "      <th>7</th>\n",
       "      <td>686.271</td>\n",
       "      <td>688.241</td>\n",
       "      <td>690.594</td>\n",
       "      <td>691.881</td>\n",
       "      <td>957.0</td>\n",
       "      <td>1002.0</td>\n",
       "      <td>994.0</td>\n",
       "      <td>984.0</td>\n",
       "    </tr>\n",
       "    <tr>\n",
       "      <th>8</th>\n",
       "      <td>694.559</td>\n",
       "      <td>695.652</td>\n",
       "      <td>697.440</td>\n",
       "      <td>698.556</td>\n",
       "      <td>989.0</td>\n",
       "      <td>990.0</td>\n",
       "      <td>1001.0</td>\n",
       "      <td>1010.0</td>\n",
       "    </tr>\n",
       "    <tr>\n",
       "      <th>9</th>\n",
       "      <td>699.997</td>\n",
       "      <td>701.688</td>\n",
       "      <td>703.289</td>\n",
       "      <td>704.842</td>\n",
       "      <td>1037.0</td>\n",
       "      <td>1041.0</td>\n",
       "      <td>1070.0</td>\n",
       "      <td>0.0</td>\n",
       "    </tr>\n",
       "  </tbody>\n",
       "</table>\n",
       "</div>"
      ],
      "text/plain": [
       "   Q1_Wage    Q2_CH    Q3_CH    Q4_CH  Q1_Wage  Q2_Wage  Q3_Wage  Q4_Wage\n",
       "5  668.789  670.744  672.722  674.253    881.0    876.0    887.0    900.0\n",
       "6  677.508  678.628  681.693  684.516    905.0    908.0    919.0    936.0\n",
       "7  686.271  688.241  690.594  691.881    957.0   1002.0    994.0    984.0\n",
       "8  694.559  695.652  697.440  698.556    989.0    990.0   1001.0   1010.0\n",
       "9  699.997  701.688  703.289  704.842   1037.0   1041.0   1070.0      0.0"
      ]
     },
     "execution_count": 13,
     "metadata": {},
     "output_type": "execute_result"
    }
   ],
   "source": [
    "df1.tail()"
   ]
  },
  {
   "cell_type": "code",
   "execution_count": 14,
   "metadata": {},
   "outputs": [
    {
     "data": {
      "text/html": [
       "<div>\n",
       "<style scoped>\n",
       "    .dataframe tbody tr th:only-of-type {\n",
       "        vertical-align: middle;\n",
       "    }\n",
       "\n",
       "    .dataframe tbody tr th {\n",
       "        vertical-align: top;\n",
       "    }\n",
       "\n",
       "    .dataframe thead th {\n",
       "        text-align: right;\n",
       "    }\n",
       "</style>\n",
       "<table border=\"1\" class=\"dataframe\">\n",
       "  <thead>\n",
       "    <tr style=\"text-align: right;\">\n",
       "      <th></th>\n",
       "      <th>Q1_Wage</th>\n",
       "      <th>Q1_Wage</th>\n",
       "    </tr>\n",
       "  </thead>\n",
       "  <tbody>\n",
       "    <tr>\n",
       "      <th>0</th>\n",
       "      <td>1.0</td>\n",
       "      <td>1.0</td>\n",
       "    </tr>\n",
       "    <tr>\n",
       "      <th>1</th>\n",
       "      <td>1.0</td>\n",
       "      <td>1.0</td>\n",
       "    </tr>\n",
       "    <tr>\n",
       "      <th>2</th>\n",
       "      <td>1.0</td>\n",
       "      <td>1.0</td>\n",
       "    </tr>\n",
       "    <tr>\n",
       "      <th>3</th>\n",
       "      <td>1.0</td>\n",
       "      <td>1.0</td>\n",
       "    </tr>\n",
       "    <tr>\n",
       "      <th>4</th>\n",
       "      <td>1.0</td>\n",
       "      <td>1.0</td>\n",
       "    </tr>\n",
       "    <tr>\n",
       "      <th>5</th>\n",
       "      <td>1.0</td>\n",
       "      <td>1.0</td>\n",
       "    </tr>\n",
       "    <tr>\n",
       "      <th>6</th>\n",
       "      <td>1.0</td>\n",
       "      <td>1.0</td>\n",
       "    </tr>\n",
       "    <tr>\n",
       "      <th>7</th>\n",
       "      <td>1.0</td>\n",
       "      <td>1.0</td>\n",
       "    </tr>\n",
       "    <tr>\n",
       "      <th>8</th>\n",
       "      <td>1.0</td>\n",
       "      <td>1.0</td>\n",
       "    </tr>\n",
       "    <tr>\n",
       "      <th>9</th>\n",
       "      <td>1.0</td>\n",
       "      <td>1.0</td>\n",
       "    </tr>\n",
       "  </tbody>\n",
       "</table>\n",
       "</div>"
      ],
      "text/plain": [
       "   Q1_Wage  Q1_Wage\n",
       "0      1.0      1.0\n",
       "1      1.0      1.0\n",
       "2      1.0      1.0\n",
       "3      1.0      1.0\n",
       "4      1.0      1.0\n",
       "5      1.0      1.0\n",
       "6      1.0      1.0\n",
       "7      1.0      1.0\n",
       "8      1.0      1.0\n",
       "9      1.0      1.0"
      ]
     },
     "execution_count": 14,
     "metadata": {},
     "output_type": "execute_result"
    }
   ],
   "source": [
    "#Check proportion of income allocated towards childcare, Q1 of each year\n",
    "df1.apply(lambda x: x['Q1_Wage'] / x['Q1_Wage'], axis=1)"
   ]
  },
  {
   "cell_type": "code",
   "execution_count": 15,
   "metadata": {},
   "outputs": [
    {
     "name": "stdout",
     "output_type": "stream",
     "text": [
      "0.9999764624485912\n",
      "-0.72262917827897\n",
      "[ 786.35465158  798.76136703  824.58050721  849.00994987  874.77053556\n",
      "  900.59914831  935.78595264  983.90842336  988.52871412 1010.02176617]\n"
     ]
    },
    {
     "data": {
      "text/plain": [
       "0      -0.354652\n",
       "1       0.238633\n",
       "2       0.419493\n",
       "3      -0.009950\n",
       "4     -17.770536\n",
       "5      -0.599148\n",
       "6       0.214047\n",
       "7       0.091577\n",
       "8      21.471286\n",
       "9   -1010.021766\n",
       "Name: Q4_Wage, dtype: float64"
      ]
     },
     "execution_count": 15,
     "metadata": {},
     "output_type": "execute_result"
    }
   ],
   "source": [
    "# Use LR model to create projected value for Q4, 2022\n",
    "X = df1[['Q1_Wage','Q2_Wage','Q3_Wage']]\n",
    "y = df1['Q4_Wage']\n",
    "# Create training data\n",
    "X_train, X_test, y_train, y_test = train_test_split(X, y, random_state=24)\n",
    "# Define model type (Linear Regression) and fit model on data \n",
    "lr = LinearRegression()\n",
    "lr.fit(X_train, y_train);\n",
    "# Print scores for training and test data\n",
    "print(lr.score(X_train, y_train))\n",
    "\n",
    "print(lr.score(X_test, y_test))\n",
    "# Create predictions from LR model \n",
    "predictions = lr.predict(X)\n",
    "\n",
    "print(predictions)\n",
    "# Check residuals\n",
    "residuals = y - predictions\n",
    "residuals"
   ]
  },
  {
   "cell_type": "code",
   "execution_count": 24,
   "metadata": {},
   "outputs": [
    {
     "name": "stderr",
     "output_type": "stream",
     "text": [
      "/Users/jeremymanning/opt/anaconda3/lib/python3.8/site-packages/pandas/core/series.py:4563: SettingWithCopyWarning: \n",
      "A value is trying to be set on a copy of a slice from a DataFrame\n",
      "\n",
      "See the caveats in the documentation: https://pandas.pydata.org/pandas-docs/stable/user_guide/indexing.html#returning-a-view-versus-a-copy\n",
      "  return super().replace(\n"
     ]
    },
    {
     "data": {
      "text/html": [
       "<div>\n",
       "<style scoped>\n",
       "    .dataframe tbody tr th:only-of-type {\n",
       "        vertical-align: middle;\n",
       "    }\n",
       "\n",
       "    .dataframe tbody tr th {\n",
       "        vertical-align: top;\n",
       "    }\n",
       "\n",
       "    .dataframe thead th {\n",
       "        text-align: right;\n",
       "    }\n",
       "</style>\n",
       "<table border=\"1\" class=\"dataframe\">\n",
       "  <thead>\n",
       "    <tr style=\"text-align: right;\">\n",
       "      <th></th>\n",
       "      <th>Q1_Wage</th>\n",
       "      <th>Q2_CH</th>\n",
       "      <th>Q3_CH</th>\n",
       "      <th>Q4_CH</th>\n",
       "      <th>Q1_Wage</th>\n",
       "      <th>Q2_Wage</th>\n",
       "      <th>Q3_Wage</th>\n",
       "      <th>Q4_Wage</th>\n",
       "      <th>Q1_Wage/Q1_Wage</th>\n",
       "      <th>Q2_CH/Q2_Wage</th>\n",
       "      <th>Q3_CH/Q3_Wage</th>\n",
       "      <th>Q4_CH/Q4_Wage</th>\n",
       "    </tr>\n",
       "  </thead>\n",
       "  <tbody>\n",
       "    <tr>\n",
       "      <th>5</th>\n",
       "      <td>668.789</td>\n",
       "      <td>670.744</td>\n",
       "      <td>672.722</td>\n",
       "      <td>674.253</td>\n",
       "      <td>881.0</td>\n",
       "      <td>876.0</td>\n",
       "      <td>887.0</td>\n",
       "      <td>900.0</td>\n",
       "      <td>1.0</td>\n",
       "      <td>0.765689</td>\n",
       "      <td>0.758424</td>\n",
       "      <td>0.749170</td>\n",
       "    </tr>\n",
       "    <tr>\n",
       "      <th>6</th>\n",
       "      <td>677.508</td>\n",
       "      <td>678.628</td>\n",
       "      <td>681.693</td>\n",
       "      <td>684.516</td>\n",
       "      <td>905.0</td>\n",
       "      <td>908.0</td>\n",
       "      <td>919.0</td>\n",
       "      <td>936.0</td>\n",
       "      <td>1.0</td>\n",
       "      <td>0.747388</td>\n",
       "      <td>0.741777</td>\n",
       "      <td>0.731321</td>\n",
       "    </tr>\n",
       "    <tr>\n",
       "      <th>7</th>\n",
       "      <td>686.271</td>\n",
       "      <td>688.241</td>\n",
       "      <td>690.594</td>\n",
       "      <td>691.881</td>\n",
       "      <td>957.0</td>\n",
       "      <td>1002.0</td>\n",
       "      <td>994.0</td>\n",
       "      <td>984.0</td>\n",
       "      <td>1.0</td>\n",
       "      <td>0.686867</td>\n",
       "      <td>0.694763</td>\n",
       "      <td>0.703131</td>\n",
       "    </tr>\n",
       "    <tr>\n",
       "      <th>8</th>\n",
       "      <td>694.559</td>\n",
       "      <td>695.652</td>\n",
       "      <td>697.440</td>\n",
       "      <td>698.556</td>\n",
       "      <td>989.0</td>\n",
       "      <td>990.0</td>\n",
       "      <td>1001.0</td>\n",
       "      <td>1010.0</td>\n",
       "      <td>1.0</td>\n",
       "      <td>0.702679</td>\n",
       "      <td>0.696743</td>\n",
       "      <td>0.691640</td>\n",
       "    </tr>\n",
       "    <tr>\n",
       "      <th>9</th>\n",
       "      <td>699.997</td>\n",
       "      <td>701.688</td>\n",
       "      <td>703.289</td>\n",
       "      <td>704.842</td>\n",
       "      <td>1037.0</td>\n",
       "      <td>1041.0</td>\n",
       "      <td>1070.0</td>\n",
       "      <td>0.0</td>\n",
       "      <td>1.0</td>\n",
       "      <td>0.674052</td>\n",
       "      <td>0.657279</td>\n",
       "      <td>inf</td>\n",
       "    </tr>\n",
       "  </tbody>\n",
       "</table>\n",
       "</div>"
      ],
      "text/plain": [
       "   Q1_Wage    Q2_CH    Q3_CH    Q4_CH  Q1_Wage  Q2_Wage  Q3_Wage  Q4_Wage  \\\n",
       "5  668.789  670.744  672.722  674.253    881.0    876.0    887.0    900.0   \n",
       "6  677.508  678.628  681.693  684.516    905.0    908.0    919.0    936.0   \n",
       "7  686.271  688.241  690.594  691.881    957.0   1002.0    994.0    984.0   \n",
       "8  694.559  695.652  697.440  698.556    989.0    990.0   1001.0   1010.0   \n",
       "9  699.997  701.688  703.289  704.842   1037.0   1041.0   1070.0      0.0   \n",
       "\n",
       "   Q1_Wage/Q1_Wage  Q2_CH/Q2_Wage  Q3_CH/Q3_Wage  Q4_CH/Q4_Wage  \n",
       "5              1.0       0.765689       0.758424       0.749170  \n",
       "6              1.0       0.747388       0.741777       0.731321  \n",
       "7              1.0       0.686867       0.694763       0.703131  \n",
       "8              1.0       0.702679       0.696743       0.691640  \n",
       "9              1.0       0.674052       0.657279            inf  "
      ]
     },
     "execution_count": 24,
     "metadata": {},
     "output_type": "execute_result"
    }
   ],
   "source": [
    "# Replace Q4, 2022 data with model projection, ensure data has been replaced successfully\n",
    "df1['Q4_Wage'].replace(0, 1070, inplace = True )\n",
    "df1.tail()"
   ]
  },
  {
   "cell_type": "code",
   "execution_count": 17,
   "metadata": {},
   "outputs": [
    {
     "name": "stdout",
     "output_type": "stream",
     "text": [
      "0.9999852863057099\n",
      "0.9951242241747867\n"
     ]
    },
    {
     "data": {
      "text/plain": [
       "array([639.72898554, 646.4388542 , 653.64619518, 660.49919427,\n",
       "       666.90224954, 674.25591732, 684.50368588, 691.90316762,\n",
       "       698.22132051, 703.11317538])"
      ]
     },
     "execution_count": 17,
     "metadata": {},
     "output_type": "execute_result"
    }
   ],
   "source": [
    "# Use LR model to create projected value for Q4_CH (Childcare costs, 2022)\n",
    "# Define new X and y variables\n",
    "X1 = df1[['Q1_Wage','Q2_CH','Q3_CH']]\n",
    "y1 = df1['Q4_CH']\n",
    "\n",
    "# Create training data\n",
    "X_train, X_test, y_train, y_test = train_test_split(X1, y1, random_state=24)\n",
    "# Fit model\n",
    "lr.fit(X_train, y_train);\n",
    "# Score model on train and test data\n",
    "\n",
    "print(lr.score(X_train, y_train))\n",
    "\n",
    "print(lr.score(X_test, y_test))\n",
    "\n",
    "# Create, print predictions \n",
    "predictions = lr.predict(X1)\n",
    "\n",
    "predictions"
   ]
  },
  {
   "cell_type": "code",
   "execution_count": 18,
   "metadata": {},
   "outputs": [
    {
     "name": "stdout",
     "output_type": "stream",
     "text": [
      "   Q1_Wage    Q2_CH    Q3_CH    Q4_CH  Q1_Wage  Q2_Wage  Q3_Wage  Q4_Wage\n",
      "0  634.935  636.563  638.068  639.683    773.0    776.0    771.0    786.0\n",
      "1  641.058  642.074  644.160  646.535    796.0    780.0    790.0    799.0\n",
      "2  647.333  649.092  651.362  653.524    808.0    801.0    803.0    825.0\n",
      "3  654.259  656.944  658.904  660.584    830.0    824.0    827.0    849.0\n",
      "4  662.441  664.260  665.773  667.762    865.0    859.0    859.0    857.0\n",
      "5  668.789  670.744  672.722  674.253    881.0    876.0    887.0    900.0\n",
      "6  677.508  678.628  681.693  684.516    905.0    908.0    919.0    936.0\n",
      "7  686.271  688.241  690.594  691.881    957.0   1002.0    994.0    984.0\n",
      "8  694.559  695.652  697.440  698.556    989.0    990.0   1001.0   1010.0\n",
      "9  699.997  701.688  703.289  704.842   1037.0   1041.0   1070.0      0.0\n"
     ]
    }
   ],
   "source": [
    "# Replace Q4_CH, 2022 with predicted value, ensure successful replace\n",
    "df1['Q4_CH'] = df1['Q4_CH'].replace(612, 819)\n",
    "print(df1)"
   ]
  },
  {
   "cell_type": "markdown",
   "metadata": {},
   "source": [
    "combine yearly wage averages, compare childcare expenses by year as proportion of salary"
   ]
  },
  {
   "cell_type": "markdown",
   "metadata": {},
   "source": [
    "plot CC expenses vs. Wages"
   ]
  },
  {
   "cell_type": "code",
   "execution_count": 19,
   "metadata": {},
   "outputs": [],
   "source": [
    "# Create dictionary to map quarters from income and childcare\n",
    "dict = {'Q1_Wage':'Q1_Wage', 'Q2_Wage':'Q2_CH', 'Q3_Wage':'Q3_CH', 'Q4_Wage':'Q4_CH'}"
   ]
  },
  {
   "cell_type": "code",
   "execution_count": 23,
   "metadata": {},
   "outputs": [
    {
     "name": "stdout",
     "output_type": "stream",
     "text": [
      "   Q1_Wage    Q2_CH    Q3_CH    Q4_CH  Q1_Wage  Q2_Wage  Q3_Wage  Q4_Wage  \\\n",
      "0  634.935  636.563  638.068  639.683    773.0    776.0    771.0    786.0   \n",
      "1  641.058  642.074  644.160  646.535    796.0    780.0    790.0    799.0   \n",
      "2  647.333  649.092  651.362  653.524    808.0    801.0    803.0    825.0   \n",
      "3  654.259  656.944  658.904  660.584    830.0    824.0    827.0    849.0   \n",
      "4  662.441  664.260  665.773  667.762    865.0    859.0    859.0    857.0   \n",
      "5  668.789  670.744  672.722  674.253    881.0    876.0    887.0    900.0   \n",
      "6  677.508  678.628  681.693  684.516    905.0    908.0    919.0    936.0   \n",
      "7  686.271  688.241  690.594  691.881    957.0   1002.0    994.0    984.0   \n",
      "8  694.559  695.652  697.440  698.556    989.0    990.0   1001.0   1010.0   \n",
      "9  699.997  701.688  703.289  704.842   1037.0   1041.0   1070.0      0.0   \n",
      "\n",
      "   Q1_Wage/Q1_Wage  Q2_CH/Q2_Wage  Q3_CH/Q3_Wage  Q4_CH/Q4_Wage  \n",
      "0              1.0       0.820313       0.827585       0.813846  \n",
      "1              1.0       0.823172       0.815392       0.809180  \n",
      "2              1.0       0.810352       0.811161       0.792150  \n",
      "3              1.0       0.797262       0.796740       0.778073  \n",
      "4              1.0       0.773295       0.775056       0.779186  \n",
      "5              1.0       0.765689       0.758424       0.749170  \n",
      "6              1.0       0.747388       0.741777       0.731321  \n",
      "7              1.0       0.686867       0.694763       0.703131  \n",
      "8              1.0       0.702679       0.696743       0.691640  \n",
      "9              1.0       0.674052       0.657279            inf  \n"
     ]
    }
   ],
   "source": [
    "# Divide each income record with mapped childcare value, create new corresponding column\n",
    "for i in dict:\n",
    "    df1[dict[i]+\"/\"+i] = df1[dict[i]]/df1[i]\n",
    "print(df1)"
   ]
  },
  {
   "cell_type": "code",
   "execution_count": null,
   "metadata": {},
   "outputs": [],
   "source": [
    "# Check proportional wage to childacare cost per Quarter/year\n",
    "a = df1[['Q1_CH/Q1_Wage', 'Q2_CH/Q2_Wage', 'Q3_CH/Q3_Wage', 'Q4_CH/Q4_Wage']]\n",
    "a"
   ]
  },
  {
   "cell_type": "code",
   "execution_count": null,
   "metadata": {},
   "outputs": [],
   "source": []
  }
 ],
 "metadata": {
  "kernelspec": {
   "display_name": "Python 3",
   "language": "python",
   "name": "python3"
  },
  "language_info": {
   "codemirror_mode": {
    "name": "ipython",
    "version": 3
   },
   "file_extension": ".py",
   "mimetype": "text/x-python",
   "name": "python",
   "nbconvert_exporter": "python",
   "pygments_lexer": "ipython3",
   "version": "3.8.5"
  }
 },
 "nbformat": 4,
 "nbformat_minor": 4
}
